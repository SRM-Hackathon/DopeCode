{
 "cells": [
  {
   "cell_type": "code",
   "execution_count": null,
   "metadata": {},
   "outputs": [],
   "source": [
    "####### STEP 1  FOR TICKET GENERATION(OVERALL PROGRAM)  #####\n",
    "\n",
    "start = str(input(\"enter the start station name\"))\n",
    "start = start.upper()\n",
    "#print(start)\n",
    "#start.str.upper()\n",
    "drop = str(input(\"enter the drop station name\"))\n",
    "drop = drop.upper()\n",
    "#print(drop)\n",
    "#drop.str.upper()\n",
    "for i in range(0,data.shape[0]):\n",
    "    if data.iloc[i,7] == start and data.iloc[i,9] == drop:\n",
    "            break\n",
    "\n",
    "####### STEP 2 FOR DAY GENERATION ##########\n",
    "import time\n",
    "import datetime\n",
    "x=int(input(\"enter the date of journey\"))\n",
    "y=int(input(\"enter the month of journey\"))\n",
    "z=int(input(\"enter the year of journey\"))\n",
    "mydate = datetime.date(z,y,x)  #year, month, day\n",
    "t=mydate.strftime(\"%A\")\n",
    "\n",
    "\n",
    "\n",
    "\n",
    "########### STEP 3 FOR ACCESSING THE DAY COLUMN IN THE FILE FOR CHECKING THE AVAILABILITY OF THE TRAIN ON THAT DAY    ###########\n",
    "days = {\n",
    "      \"Monday\": 1,\n",
    "     \"Tuesday\": 2,\n",
    "     \"Wednesday\": 3,\n",
    "      \"Thursday\": 4,\n",
    "       \"Friday\": 5,\n",
    "      \"Saturday\": 6,\n",
    "       \"sunday\": 7\n",
    "       }\n",
    "s=days[t]\n",
    "\n",
    "\n",
    "############ STEP 4   (INCOMPLETE) TO CHECK THE S VALUE IN THE DATA FILE FOR AVAILABILITY OF THE TRAIN ON THE DATE USER SPECIFIED (INCOMPLETE) ##########\n",
    "\n",
    "o=str(data.iloc[i,10])\n",
    "print(o)\n",
    "for l in o.split():\n",
    "    print(data.iloc[i,:])\n"
   ]
  }
 ],
 "metadata": {
  "kernelspec": {
   "display_name": "Python 3",
   "language": "python",
   "name": "python3"
  },
  "language_info": {
   "codemirror_mode": {
    "name": "ipython",
    "version": 3
   },
   "file_extension": ".py",
   "mimetype": "text/x-python",
   "name": "python",
   "nbconvert_exporter": "python",
   "pygments_lexer": "ipython3",
   "version": "3.6.5"
  }
 },
 "nbformat": 4,
 "nbformat_minor": 2
}
